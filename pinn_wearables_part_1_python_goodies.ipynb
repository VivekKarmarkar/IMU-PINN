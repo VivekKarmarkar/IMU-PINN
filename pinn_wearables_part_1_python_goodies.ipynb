{
 "cells": [
  {
   "cell_type": "markdown",
   "id": "5d9abf27-bda0-44aa-bd0e-4a69e4d6e1ce",
   "metadata": {},
   "source": [
    "## Import relevant libraries"
   ]
  },
  {
   "cell_type": "code",
   "execution_count": 1,
   "id": "ce9a47e6-259f-47f2-a019-dededffc603d",
   "metadata": {},
   "outputs": [],
   "source": [
    "import jax\n",
    "import jax.numpy as jnp\n",
    "import time"
   ]
  },
  {
   "cell_type": "markdown",
   "id": "89a4132c-ae16-4429-b595-46122936fc6b",
   "metadata": {},
   "source": [
    "## The lambda function"
   ]
  },
  {
   "cell_type": "code",
   "execution_count": 2,
   "id": "8889d481-17fd-4518-abf2-34cb9889a0eb",
   "metadata": {},
   "outputs": [],
   "source": [
    "sq_fn = lambda x:jnp.square(x)"
   ]
  },
  {
   "cell_type": "code",
   "execution_count": 3,
   "id": "b085a3a7-fbc2-4979-b0cd-d0123208e75c",
   "metadata": {},
   "outputs": [
    {
     "data": {
      "text/plain": [
       "<function __main__.<lambda>(x)>"
      ]
     },
     "execution_count": 3,
     "metadata": {},
     "output_type": "execute_result"
    }
   ],
   "source": [
    "sq_fn"
   ]
  },
  {
   "cell_type": "code",
   "execution_count": 4,
   "id": "653a75ba-d594-41f2-88ff-e9a031204919",
   "metadata": {},
   "outputs": [
    {
     "data": {
      "text/plain": [
       "Array(9, dtype=int32, weak_type=True)"
      ]
     },
     "execution_count": 4,
     "metadata": {},
     "output_type": "execute_result"
    }
   ],
   "source": [
    "sq_fn(3)"
   ]
  },
  {
   "cell_type": "code",
   "execution_count": 5,
   "id": "3dddde11-4f55-48bd-8fcf-e313a057f8ce",
   "metadata": {},
   "outputs": [],
   "source": [
    "def reg_sq_fn(x):\n",
    "    return jnp.square(x)"
   ]
  },
  {
   "cell_type": "code",
   "execution_count": 6,
   "id": "d7c126c0-d5fe-4df6-8290-98aed53e6c23",
   "metadata": {},
   "outputs": [
    {
     "data": {
      "text/plain": [
       "<function __main__.reg_sq_fn(x)>"
      ]
     },
     "execution_count": 6,
     "metadata": {},
     "output_type": "execute_result"
    }
   ],
   "source": [
    "reg_sq_fn"
   ]
  },
  {
   "cell_type": "code",
   "execution_count": 7,
   "id": "29f1ebbf-d082-46d4-a555-dd49329fcd7c",
   "metadata": {},
   "outputs": [
    {
     "data": {
      "text/plain": [
       "Array(9, dtype=int32, weak_type=True)"
      ]
     },
     "execution_count": 7,
     "metadata": {},
     "output_type": "execute_result"
    }
   ],
   "source": [
    "reg_sq_fn(3)"
   ]
  },
  {
   "cell_type": "markdown",
   "id": "98f1558b-70eb-4d43-878a-deb3ccab7ee6",
   "metadata": {},
   "source": [
    "1. Lambda functions are \"anonymous\" functions in Python and are written as one-liners\n",
    "2. We can see that these functions are \"anonymous\" or wihtout name by printing out \"sq_fn\" and \"reg_sq_fn\" and comparing them\n",
    "3. The syntax of these lambda functions is of the form \"lambda argument : expression\"\n",
    "4. The form of the syntax of these lambda functions is very convenient for automatic differentiation purposes as it amounts to a statement of the form \"lambda x : f(x)\" and then one is taking the derivative of \"f\" with respect to \"x\""
   ]
  },
  {
   "cell_type": "markdown",
   "id": "d951052b-d009-4a6c-9d63-4524354f2fe8",
   "metadata": {},
   "source": [
    "## Memory location"
   ]
  },
  {
   "cell_type": "code",
   "execution_count": 8,
   "id": "7ccce8c1-dfe8-4c25-a18b-1aef1205421b",
   "metadata": {},
   "outputs": [
    {
     "data": {
      "text/plain": [
       "1510304247584"
      ]
     },
     "execution_count": 8,
     "metadata": {},
     "output_type": "execute_result"
    }
   ],
   "source": [
    "id(sq_fn)"
   ]
  },
  {
   "cell_type": "code",
   "execution_count": 9,
   "id": "dc4af5de-646e-4122-a63e-91fb511d08e2",
   "metadata": {},
   "outputs": [
    {
     "data": {
      "text/plain": [
       "1510304247904"
      ]
     },
     "execution_count": 9,
     "metadata": {},
     "output_type": "execute_result"
    }
   ],
   "source": [
    "id(reg_sq_fn)"
   ]
  },
  {
   "cell_type": "markdown",
   "id": "facd85b6-4a33-4020-b934-b8dfc0d4dd2e",
   "metadata": {},
   "source": [
    "1. The memory location tells us where our functions live or have been stored\n",
    "2. Retrieving memory location will be required to demonstrate a subtle point in regards to our pinn"
   ]
  },
  {
   "cell_type": "markdown",
   "id": "0a7bb6c0-e805-4617-bee6-5e4e80a08c6d",
   "metadata": {},
   "source": [
    "## List comprehension"
   ]
  },
  {
   "cell_type": "code",
   "execution_count": 10,
   "id": "29f34589-5e09-4b9d-91ff-908257b7205c",
   "metadata": {},
   "outputs": [],
   "source": [
    "y_lc = [jnp.square(x) for x in range(5)]"
   ]
  },
  {
   "cell_type": "code",
   "execution_count": 11,
   "id": "efb0c8b0-6752-4dba-b6b6-835a5a9b4140",
   "metadata": {},
   "outputs": [
    {
     "data": {
      "text/plain": [
       "[Array(0, dtype=int32, weak_type=True),\n",
       " Array(1, dtype=int32, weak_type=True),\n",
       " Array(4, dtype=int32, weak_type=True),\n",
       " Array(9, dtype=int32, weak_type=True),\n",
       " Array(16, dtype=int32, weak_type=True)]"
      ]
     },
     "execution_count": 11,
     "metadata": {},
     "output_type": "execute_result"
    }
   ],
   "source": [
    "y_lc"
   ]
  },
  {
   "cell_type": "code",
   "execution_count": 12,
   "id": "c5475b10-d954-4452-8834-f10045a2a1cc",
   "metadata": {},
   "outputs": [],
   "source": [
    "y_reg = []\n",
    "for x in range(5):\n",
    "    y_reg.append(jnp.square(x))"
   ]
  },
  {
   "cell_type": "code",
   "execution_count": 13,
   "id": "4973a250-5176-459c-ba22-60f560343cfa",
   "metadata": {},
   "outputs": [
    {
     "data": {
      "text/plain": [
       "[Array(0, dtype=int32, weak_type=True),\n",
       " Array(1, dtype=int32, weak_type=True),\n",
       " Array(4, dtype=int32, weak_type=True),\n",
       " Array(9, dtype=int32, weak_type=True),\n",
       " Array(16, dtype=int32, weak_type=True)]"
      ]
     },
     "execution_count": 13,
     "metadata": {},
     "output_type": "execute_result"
    }
   ],
   "source": [
    "y_reg"
   ]
  },
  {
   "cell_type": "markdown",
   "id": "6c75ac47-85c3-43cd-8ae3-0bc405acbc9f",
   "metadata": {},
   "source": [
    "1. List comprehensions offer compact syntax to create lists that utilize a one-liner for loop\n",
    "2. In this example we create a list containing squares of integers from 0 to 5\n",
    "3. We create two lists - one with list comprehension and on with a for loop to constrast both approaches"
   ]
  },
  {
   "cell_type": "markdown",
   "id": "62285e72-f2ff-4413-a691-8628895e0748",
   "metadata": {},
   "source": [
    "## The enumerate operation"
   ]
  },
  {
   "cell_type": "code",
   "execution_count": 14,
   "id": "9b3d4d2e-a4a6-476e-861f-fd4ea95978bc",
   "metadata": {},
   "outputs": [
    {
     "name": "stdout",
     "output_type": "stream",
     "text": [
      "0 0 0\n",
      "1 2 1\n",
      "2 4 4\n",
      "3 6 9\n",
      "4 8 16\n"
     ]
    }
   ],
   "source": [
    "for idx, item in enumerate(y_lc):\n",
    "    print(idx, 2*idx, item)"
   ]
  },
  {
   "cell_type": "markdown",
   "id": "4098bf67-e7c2-46c3-abb9-5a469331ee8a",
   "metadata": {},
   "source": [
    "1. The enumerate operation is used when we want to loop through a collection of items and simultaneously access its location\n",
    "2. Here, we use enurate to loop through a list to extract the index which is the same as location\n",
    "3. We then print the index, the index doubled and the original item which is the index squared"
   ]
  },
  {
   "cell_type": "markdown",
   "id": "65d2e3e4-59d0-4bc8-a71c-41d81c72e2d2",
   "metadata": {},
   "source": [
    "## zip objects"
   ]
  },
  {
   "cell_type": "code",
   "execution_count": 15,
   "id": "066dc71e-bc4c-4b4e-b2fd-6a7fa7c99f3d",
   "metadata": {},
   "outputs": [],
   "source": [
    "list_one = [1, 2, 3]\n",
    "list_two = [99, 98, 97]\n",
    "zip_obj = zip(list_one, list_two)"
   ]
  },
  {
   "cell_type": "code",
   "execution_count": 16,
   "id": "c47c32c5-5c11-48bc-9e65-f294eadb542a",
   "metadata": {},
   "outputs": [
    {
     "data": {
      "text/plain": [
       "zip"
      ]
     },
     "execution_count": 16,
     "metadata": {},
     "output_type": "execute_result"
    }
   ],
   "source": [
    "type(zip_obj)"
   ]
  },
  {
   "cell_type": "code",
   "execution_count": 17,
   "id": "fe95b19d-2dd3-4698-99ad-324a51996ad9",
   "metadata": {},
   "outputs": [
    {
     "data": {
      "text/plain": [
       "<zip at 0x15fa694fcc0>"
      ]
     },
     "execution_count": 17,
     "metadata": {},
     "output_type": "execute_result"
    }
   ],
   "source": [
    "zip_obj"
   ]
  },
  {
   "cell_type": "code",
   "execution_count": 18,
   "id": "a8c110f2-a87e-401a-b848-642309301472",
   "metadata": {},
   "outputs": [
    {
     "name": "stdout",
     "output_type": "stream",
     "text": [
      "1 99 100\n",
      "2 98 100\n",
      "3 97 100\n"
     ]
    }
   ],
   "source": [
    "for tuple_obj in zip_obj:\n",
    "    (num_1, num_2) = tuple_obj\n",
    "    print(num_1, num_2, num_1 + num_2)"
   ]
  },
  {
   "cell_type": "markdown",
   "id": "c855f4ad-bcae-48d2-b890-10d4c27a7748",
   "metadata": {},
   "source": [
    "1. zip objects are iterators of tuples\n",
    "2. By an interator, we mean that we can loop through zip objects\n",
    "3. zip objects are a collection of tuples, meaning that we can loop through a collection of tuples\n",
    "4. zip objects are used when we want to simultaneously iteratre or loop through mutliple collections of items\n",
    "5. Here, we simultaneously loop through two lists which when done via \"zip\" results in looping through a collection of tuples where each tuple is made out of the items of the list corresponding to the same index\n",
    "6. In this example, we loop through the zip object and extract the entries of the tuple which are numbers and print their sum"
   ]
  },
  {
   "cell_type": "markdown",
   "id": "bc125adb-ae55-4228-b269-40b24bc0c68d",
   "metadata": {},
   "source": [
    "## Decorators and just-in-time (jit) compilers in JAX"
   ]
  },
  {
   "cell_type": "code",
   "execution_count": 19,
   "id": "5dc21106-a296-477d-bde1-e51ed0f65cd6",
   "metadata": {},
   "outputs": [],
   "source": [
    "def decorator(func):\n",
    "    def wrapper():\n",
    "        print(\"Something is happening before the function is called.\")\n",
    "        func()\n",
    "        print(\"Something is happening after the function is called.\")\n",
    "    return wrapper"
   ]
  },
  {
   "cell_type": "code",
   "execution_count": 20,
   "id": "4e99d209-3c7c-49cf-b5ac-3070ab528e06",
   "metadata": {},
   "outputs": [],
   "source": [
    "def print_hello_world():\n",
    "    print(\"hello world!\")"
   ]
  },
  {
   "cell_type": "code",
   "execution_count": 21,
   "id": "9435a786-e02b-4fba-a206-ac0f816471c7",
   "metadata": {},
   "outputs": [],
   "source": [
    "@decorator\n",
    "def print_hi_world():\n",
    "    print(\"hi world!\")"
   ]
  },
  {
   "cell_type": "code",
   "execution_count": 22,
   "id": "88b7ccc9-5b00-485c-8ee2-47eabb5779c2",
   "metadata": {},
   "outputs": [
    {
     "name": "stdout",
     "output_type": "stream",
     "text": [
      "hello world!\n"
     ]
    }
   ],
   "source": [
    "print_hello_world()"
   ]
  },
  {
   "cell_type": "code",
   "execution_count": 23,
   "id": "e403c6d8-d013-4888-948f-c657f0ede457",
   "metadata": {},
   "outputs": [
    {
     "name": "stdout",
     "output_type": "stream",
     "text": [
      "Something is happening before the function is called.\n",
      "hi world!\n",
      "Something is happening after the function is called.\n"
     ]
    }
   ],
   "source": [
    "print_hi_world()"
   ]
  },
  {
   "cell_type": "markdown",
   "id": "550ca48f-8744-4b14-8398-2933c43294c3",
   "metadata": {},
   "source": [
    "1. Decorators can be thought of as \"enhancers\" of functions as they extend the capabilities of functions!\n",
    "3. Decorators are used to invoke the just-in-time (jit) compiler in JAX\n",
    "4. The jit compiler leads to massive speed-ups in processing\n",
    "5. The jit compiler along with vmap are two key features which make JAX very attractive for pinns!"
   ]
  },
  {
   "cell_type": "markdown",
   "id": "684160da-6afd-4a2d-984f-2f16dfaa7989",
   "metadata": {},
   "source": [
    "## Array slicing"
   ]
  },
  {
   "cell_type": "code",
   "execution_count": 24,
   "id": "6a813fc0-bb4b-49f7-8bd7-c54a36b75a3f",
   "metadata": {},
   "outputs": [],
   "source": [
    "array_example = [1, 2, 3, 4, 5]"
   ]
  },
  {
   "cell_type": "code",
   "execution_count": 25,
   "id": "33cc9ee4-d29c-4370-901d-c1b599005371",
   "metadata": {},
   "outputs": [
    {
     "data": {
      "text/plain": [
       "[1, 2, 3]"
      ]
     },
     "execution_count": 25,
     "metadata": {},
     "output_type": "execute_result"
    }
   ],
   "source": [
    "array_example[:3]"
   ]
  },
  {
   "cell_type": "code",
   "execution_count": 26,
   "id": "efa9990c-cbb0-4c78-8646-00b82f7aeee6",
   "metadata": {},
   "outputs": [
    {
     "data": {
      "text/plain": [
       "[3, 4]"
      ]
     },
     "execution_count": 26,
     "metadata": {},
     "output_type": "execute_result"
    }
   ],
   "source": [
    "array_example[2:4]"
   ]
  },
  {
   "cell_type": "code",
   "execution_count": 27,
   "id": "f1cda925-e49a-4d44-a4d4-d51a7bc0ea37",
   "metadata": {},
   "outputs": [
    {
     "data": {
      "text/plain": [
       "[1, 2, 3, 4]"
      ]
     },
     "execution_count": 27,
     "metadata": {},
     "output_type": "execute_result"
    }
   ],
   "source": [
    "array_example[:-1]"
   ]
  },
  {
   "cell_type": "markdown",
   "id": "4c0f70e9-9126-41c7-8e2b-f04be91af86a",
   "metadata": {},
   "source": [
    "1. Array slicing is used to literally \"slice\" an array\n",
    "2. The syntax is array[first_index:last_index] which leads to an array with elements starting at array[first_index] and going upto array[last_index] but excluding it\n",
    "3. The syntax array[:last_index] means do not slice the array on the left\n",
    "4. The syntax array[-1] is used to access the last element of the array and therefore array[:-1] means do not slice the array on the left and keep everything upto the last element but not the last element"
   ]
  },
  {
   "cell_type": "markdown",
   "id": "aaa42ca9-7d82-42d9-96e0-ada45c482ec8",
   "metadata": {},
   "source": [
    "## Type hints"
   ]
  },
  {
   "cell_type": "code",
   "execution_count": 28,
   "id": "4ac1419d-1053-4782-8cca-981b88943455",
   "metadata": {},
   "outputs": [],
   "source": [
    "def add_two_integers(first_num:int, second_num:int) -> int:\n",
    "    return first_num + second_num"
   ]
  },
  {
   "cell_type": "code",
   "execution_count": 29,
   "id": "15bee0e3-92d2-40ae-bc52-e4d2fe474089",
   "metadata": {},
   "outputs": [
    {
     "data": {
      "text/plain": [
       "3"
      ]
     },
     "execution_count": 29,
     "metadata": {},
     "output_type": "execute_result"
    }
   ],
   "source": [
    "add_two_integers(1, 2)"
   ]
  },
  {
   "cell_type": "code",
   "execution_count": 30,
   "id": "dc621b11-bc67-43d9-a699-8172065a0e97",
   "metadata": {},
   "outputs": [
    {
     "data": {
      "text/plain": [
       "3.3000000000000003"
      ]
     },
     "execution_count": 30,
     "metadata": {},
     "output_type": "execute_result"
    }
   ],
   "source": [
    "add_two_integers(1.1, 2.2)"
   ]
  },
  {
   "cell_type": "markdown",
   "id": "9ad041fa-e2c5-485d-9f8d-cbcb0807c3c6",
   "metadata": {},
   "source": [
    "1. Type hints are used to specify the desired Python type of parameters of interest\n",
    "2. Here, the parameters of interest are arguments to a function\n",
    "3. The type hints are not strictly enforced as can be seen from the example\n",
    "4. The type hints mainly serve for clarity and improved readability of code"
   ]
  },
  {
   "cell_type": "markdown",
   "id": "a6702eab-61b7-4a9e-be71-99f4f26386fc",
   "metadata": {},
   "source": [
    "## Random keys in JAX"
   ]
  },
  {
   "cell_type": "code",
   "execution_count": 31,
   "id": "83ee25a1-93bc-4c73-92ab-b8e9211f3baa",
   "metadata": {},
   "outputs": [],
   "source": [
    "key = jax.random.PRNGKey(0)"
   ]
  },
  {
   "cell_type": "code",
   "execution_count": 32,
   "id": "f50ea18a-520e-45c2-b320-1f588e13ae73",
   "metadata": {},
   "outputs": [],
   "source": [
    "key, new_key = jax.random.split(key)"
   ]
  },
  {
   "cell_type": "markdown",
   "id": "303e5593-9bb0-45f5-a7e3-2a0b4e334f8c",
   "metadata": {},
   "source": [
    "1. The random keys are typically required for reproducibility of code and for initializing neural networks\n",
    "2. The \"jax.random.PRNGKey\" line of code provides the initial key required for initialization\n",
    "3. Based on the neural network architecture, this primary key might have to be modified in addition to generating a new key\n",
    "4. The \"jax.random.split(key)\" line of code provides the modified key in addition to generating a new key and we think of this operation as \"splitting\" the initial key"
   ]
  },
  {
   "cell_type": "markdown",
   "id": "52e395f0-1afc-4fe0-b472-20fbf6a64eb7",
   "metadata": {},
   "source": [
    "## Vectorized mapping or vmap in JAX"
   ]
  },
  {
   "cell_type": "code",
   "execution_count": 33,
   "id": "03cd92e6-273c-4e36-b04c-160b7e64ba36",
   "metadata": {},
   "outputs": [],
   "source": [
    "def vec_norm(vec):\n",
    "    x = vec[0]\n",
    "    y = vec[1]\n",
    "    n = jnp.square(x) + jnp.square(y)\n",
    "    return n"
   ]
  },
  {
   "cell_type": "code",
   "execution_count": 34,
   "id": "e51e99d2-8ace-4686-b45a-c57f5e6f707c",
   "metadata": {},
   "outputs": [],
   "source": [
    "theta = jnp.linspace(0, jnp.pi, 100000)\n",
    "x = jnp.cos(theta).reshape(-1,1)\n",
    "y = jnp.sin(theta).reshape(-1,1)\n",
    "vecs = jnp.concatenate((x, y), axis=1)"
   ]
  },
  {
   "cell_type": "code",
   "execution_count": 35,
   "id": "027eb8c8-0653-4fee-91e8-9efeca142604",
   "metadata": {},
   "outputs": [],
   "source": [
    "start_time_reg = time.time()\n",
    "list_norm_reg = [vec_norm(vec) for vec in vecs]\n",
    "end_time_reg = time.time()\n",
    "exec_time_reg = end_time_reg - start_time_reg"
   ]
  },
  {
   "cell_type": "code",
   "execution_count": 36,
   "id": "10110765-a15f-43ce-85ad-c699ec2cf06a",
   "metadata": {},
   "outputs": [],
   "source": [
    "start_time_vm = time.time()\n",
    "list_norm_vm = jax.vmap(vec_norm)(vecs)\n",
    "end_time_vm = time.time()\n",
    "exec_time_vm = end_time_vm - start_time_vm"
   ]
  },
  {
   "cell_type": "code",
   "execution_count": 37,
   "id": "8a8a0839-78c9-4e8a-9727-9c1d187cad78",
   "metadata": {},
   "outputs": [
    {
     "name": "stdout",
     "output_type": "stream",
     "text": [
      "execution time (regular): 35.98 seconds\n",
      "execution time (vmap): 0.14 seconds\n"
     ]
    }
   ],
   "source": [
    "print(f\"execution time (regular): {round(exec_time_reg,2)} seconds\")\n",
    "print(f\"execution time (vmap): {round(exec_time_vm,2)} seconds\")"
   ]
  },
  {
   "cell_type": "markdown",
   "id": "d0f42c3b-301e-478c-a53c-d54e30b33941",
   "metadata": {},
   "source": [
    "1. vmap vectorizes functions by taking a function that acts on a object like a vector and extending its functionality so that it acts on an entire batch with a collection of such objects\n",
    "2. In case of custom functions that are not vectorized \"out-of-the-box\", the most rudimentary way of vectorizing such functions might be via for loops like in the example shown here\n",
    "3. The use of rudimentary iterators like loops creates speed bottlenecks for vectorizing the function\n",
    "4. vmap provides an extremely speedy implementation that handles function vectorization!\n",
    "5. The example of the custom function shown here is \"standard\" enough to vectorize based on \"out-of-the-box\" functions and it has been used merely to illustrate a point!\n",
    "6. In real problems, we will be faced with custom functions that are hard to vectorize and that is where the power of vmap really comes in handy!\n",
    "7. When we go through the main code, we will be vectorizing a custom function that converts orientation in the form of quaternion directly to angular representations and vmap really helps there!\n",
    "8. vmap also helps in terms of conceptually thinking and formulating a function for a scalar input and then vectorizing it - for example, we might be interested in computing the velocity vector by defining a function that automatically differentiates the position vector at a given time \"t\" - then we can apply to this an entire array of temporal observations via vmap - example below!"
   ]
  },
  {
   "cell_type": "markdown",
   "id": "cd18e831-f966-42ac-8cc7-01426cd50a9d",
   "metadata": {},
   "source": [
    "## Automatic differentiation using jacrev in JAX"
   ]
  },
  {
   "cell_type": "code",
   "execution_count": 38,
   "id": "eba9db0f-7d6a-4543-a7fb-127f19c250eb",
   "metadata": {},
   "outputs": [],
   "source": [
    "dr_dt = jax.jacrev(lambda t:jnp.array([t, jnp.square(t)]))"
   ]
  },
  {
   "cell_type": "code",
   "execution_count": 39,
   "id": "01a7d945-eeae-419b-b874-65ff8152239b",
   "metadata": {},
   "outputs": [],
   "source": [
    "t_val = jnp.linspace(0, 2, 10)"
   ]
  },
  {
   "cell_type": "code",
   "execution_count": 40,
   "id": "b3c88bac-2ee4-408c-a862-819b61131e24",
   "metadata": {},
   "outputs": [
    {
     "data": {
      "text/plain": [
       "Array(0., dtype=float32)"
      ]
     },
     "execution_count": 40,
     "metadata": {},
     "output_type": "execute_result"
    }
   ],
   "source": [
    "t_val[0]"
   ]
  },
  {
   "cell_type": "code",
   "execution_count": 41,
   "id": "a93ba548-aff7-43be-95f8-c7aced017b1a",
   "metadata": {},
   "outputs": [
    {
     "data": {
      "text/plain": [
       "Array([1., 0.], dtype=float32)"
      ]
     },
     "execution_count": 41,
     "metadata": {},
     "output_type": "execute_result"
    }
   ],
   "source": [
    "dr_dt(t_val[0])"
   ]
  },
  {
   "cell_type": "code",
   "execution_count": 42,
   "id": "32a68cdb-bf5c-439e-8a0d-741adc18a43f",
   "metadata": {},
   "outputs": [],
   "source": [
    "dr_dt_vec = jax.vmap(dr_dt)"
   ]
  },
  {
   "cell_type": "code",
   "execution_count": 43,
   "id": "daf6eb50-2303-4aad-bac2-2ad9405cce05",
   "metadata": {},
   "outputs": [
    {
     "data": {
      "text/plain": [
       "Array([[1.        , 0.        ],\n",
       "       [1.        , 0.44444445],\n",
       "       [1.        , 0.8888889 ],\n",
       "       [1.        , 1.3333334 ],\n",
       "       [1.        , 1.7777778 ],\n",
       "       [1.        , 2.2222223 ],\n",
       "       [1.        , 2.6666667 ],\n",
       "       [1.        , 3.1111112 ],\n",
       "       [1.        , 3.5555556 ],\n",
       "       [1.        , 4.        ]], dtype=float32)"
      ]
     },
     "execution_count": 43,
     "metadata": {},
     "output_type": "execute_result"
    }
   ],
   "source": [
    "dr_dt_vec(t_val)"
   ]
  },
  {
   "cell_type": "markdown",
   "id": "6e0e61be-1b1c-469a-b388-72f7340a5e0e",
   "metadata": {},
   "source": [
    "1. The reverse mode automatic differentiation in JAX allows us to differentiate vector-valued functions\n",
    "2. For example - position vectors are typically vector-value functions of time whose differentiation with respect to time yields the velocity vector\n",
    "3. The grad functionality within JAX is designed to only handle scalar-valued functions which is why it is not applicable here\n",
    "4. The \"jac\" in \"jacrev\" stands for \"jacobian\" which is nothing but the gradient of vector-valued functions\n",
    "5. The \"rev\" in \"jacrev\" stands for \"reverse-mode\" automatic differentiation\n",
    "6. The \"reverse-mode\" automatic differentiation is typically used when the number of inputs are much larger than the number of outputs\n",
    "7. We are interested in representing physical quantities of interest with neural networks which do have a lot of input parameters. However, we plan on carrying out explicit automatic differentiation to compute physical derivatives where the \"active\" input is time and thus, we are dealing with a scalar input for the purposes of automatic differentiation for obtaining physical derivatives\n",
    "8. Given that the \"true\" number of inputs to the neural network is a large number but the \"active\" input is just one single number, the choice between forward and reverse mode was not clear to me - and since both approaches provide accurate answers and given that speed was not a major concern - I decided to use reverse mode automatic differentiation!\n",
    "9. Here, we define the \"dr_dt\" function which differentiates the vector-valued position vector with respect to time - which is a scalar-valued input\n",
    "10. The vmap functionality within JAX allows us to apply the \"dr_dt\" function to the entire temporal array thus leading to the computation of the velocity vector from the vector-valued position vector function for each discrete time instant in the temporal array\n",
    "11. We will now discuss the same projectile motion example in the light of Object-oriented Programming (OOP)"
   ]
  },
  {
   "cell_type": "markdown",
   "id": "1b469058-4b61-4ed2-a69b-c945d26a819a",
   "metadata": {},
   "source": [
    "## OOP basics"
   ]
  },
  {
   "cell_type": "code",
   "execution_count": 44,
   "id": "992072ef-fcf5-4749-821f-3a5d291cf81a",
   "metadata": {},
   "outputs": [],
   "source": [
    "class TimeStep:\n",
    "    def __init__(self, position, velocity):\n",
    "        self.position = position  # Assume position is a tuple (x, y)\n",
    "        self.velocity = velocity  # Assume velocity is a tuple (vx, vy)\n",
    "        self.dt = 0.01\n",
    "\n",
    "    def move(self):\n",
    "        new_x = self.position[0] + self.velocity[0] * self.dt\n",
    "        new_y = self.position[1] + self.velocity[1] * self.dt\n",
    "        self.position = (new_x, new_y)\n",
    "\n",
    "    def __call__(self):\n",
    "        self.move()\n",
    "        return self.position\n",
    "\n",
    "class Motion(TimeStep):\n",
    "    def __init__(self, position, velocity):\n",
    "        super().__init__(position, velocity)\n",
    "\n",
    "    def compute_trajectory(self, tf):\n",
    "        vx = 1.0\n",
    "        t = 0.0\n",
    "        while t < tf:\n",
    "            vy = 2 * t\n",
    "            self.velocity = (vx, vy)\n",
    "            self.move()\n",
    "            t += self.dt\n",
    "\n",
    "    def __call__(self, tf):\n",
    "        self.compute_trajectory(tf)\n",
    "        return self.position"
   ]
  },
  {
   "cell_type": "code",
   "execution_count": 45,
   "id": "af63023b-77e2-45a1-b269-792d8778c20e",
   "metadata": {},
   "outputs": [
    {
     "name": "stdout",
     "output_type": "stream",
     "text": [
      "Projectile position after 2 seconds: (2.0, 3.98)\n"
     ]
    }
   ],
   "source": [
    "projectile = Motion(position=(0.0, 0.0), velocity=(0.0, 0.0))\n",
    "projectile_position_after_2s = projectile(tf=2.0)\n",
    "print(f\"Projectile position after 2 seconds: {round(projectile_position_after_2s[0], 2), round(projectile_position_after_2s[1], 2)}\")"
   ]
  },
  {
   "cell_type": "markdown",
   "id": "473a157f-9976-498a-af33-8301f912311c",
   "metadata": {},
   "source": [
    "1. Classes can be thought of as a blueprint for creating reproducible and structured data containers\n",
    "3. Objects are embodiments of such classes\n",
    "4. The properties associated with such objects are called attributes\n",
    "5. Constructors are used to create objects belonging to a certain class and the \"init\" method is an example of a constructor. Everytime we create an object of the class with the syntax \"example_object = ClassName(parameters)\", the code inside the \"init\" method runs and initializes the attributes by making assignments based on the parameters used by the \"init\" method\n",
    "6. We have used the term \"method\" which can simply be thought of as a function\n",
    "8. The \"self\" keyword refers to the instance of a class and it is standard practice to use self to assign attributes. For example, our TimeStep and Motion classes will have instances that have the properties of position and velocity - the \"self\" keyword is used to attribute the position and velocity information to these instances of the class\n",
    "9. Once we create an object, we might want to repetitively perform a set of instructions on this object. In the example here, once we create an object of the class Motion by providing it with an initial position and velocity, we might want to perform the kinematic motion sequence multiple times to get trajectories of different temporal lengths\n",
    "10. We have also used the concept of \"Parent\" and \"Child\" class in this example. The \"Child\" class inherits properties from the \"Parent\" class. Here, the Motion class has all the properties of the TimeStep class. The Motion class computes a trajectory which requires stepping through time. The TimeStep class has a method called \"move\" which carries out this function. By inheriting properties from the TimeStep class, the Motion class has access to the \"move\" method which it can use for stepping through time as part of computing the trajectory. This inheritance is carried out via the syntax \"class Child(Parent)\"\n",
    "11. The \"super\" keyword is used to initialize attributes of the parent class and ensures that the initialization logic of the parent class is executed before the child class allowing us to build on and extend the functionality of the parent class"
   ]
  }
 ],
 "metadata": {
  "kernelspec": {
   "display_name": "Python 3 (ipykernel)",
   "language": "python",
   "name": "python3"
  },
  "language_info": {
   "codemirror_mode": {
    "name": "ipython",
    "version": 3
   },
   "file_extension": ".py",
   "mimetype": "text/x-python",
   "name": "python",
   "nbconvert_exporter": "python",
   "pygments_lexer": "ipython3",
   "version": "3.11.7"
  }
 },
 "nbformat": 4,
 "nbformat_minor": 5
}
